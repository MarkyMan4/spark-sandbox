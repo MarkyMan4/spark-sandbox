{
 "cells": [
  {
   "cell_type": "code",
   "execution_count": 6,
   "id": "b5057f40-0ef4-4cf5-b1da-8ed691c07c11",
   "metadata": {},
   "outputs": [],
   "source": [
    "import requests\n",
    "import os\n",
    "from pyspark.sql import SparkSession"
   ]
  },
  {
   "cell_type": "code",
   "execution_count": 5,
   "id": "38ff70ee-5b86-4068-9210-0517876a3b6a",
   "metadata": {},
   "outputs": [],
   "source": [
    "os.makedirs(\"/data\", exist_ok=True)\n",
    "\n",
    "with open(\"/data/winemag-reviews.csv\", \"wb\") as file:\n",
    "    csv_url = \"http://tinyurl.com/winemag-reviews-csv\"\n",
    "    file.write(requests.get(csv_url).content)\n",
    "\n",
    "with open(\"/data/winemag-reviews.json\", \"wb\") as file:\n",
    "    json_url = \"http://tinyurl.com/winemag-reviews-json\"\n",
    "    file.write(requests.get(json_url).content)"
   ]
  },
  {
   "cell_type": "code",
   "execution_count": 7,
   "id": "9471ee36-0952-4d75-b160-ffface50b69d",
   "metadata": {},
   "outputs": [
    {
     "name": "stdout",
     "output_type": "stream",
     "text": [
      "root\n",
      " |-- _c0: string (nullable = true)\n",
      " |-- country: string (nullable = true)\n",
      " |-- description: string (nullable = true)\n",
      " |-- designation: string (nullable = true)\n",
      " |-- points: string (nullable = true)\n",
      " |-- price: string (nullable = true)\n",
      " |-- province: string (nullable = true)\n",
      " |-- region_1: string (nullable = true)\n",
      " |-- region_2: string (nullable = true)\n",
      " |-- taster_name: string (nullable = true)\n",
      " |-- taster_twitter_handle: string (nullable = true)\n",
      " |-- title: string (nullable = true)\n",
      " |-- variety: string (nullable = true)\n",
      " |-- winery: string (nullable = true)\n",
      "\n",
      "root\n",
      " |-- country: string (nullable = true)\n",
      " |-- description: string (nullable = true)\n",
      " |-- designation: string (nullable = true)\n",
      " |-- points: string (nullable = true)\n",
      " |-- price: long (nullable = true)\n",
      " |-- province: string (nullable = true)\n",
      " |-- region_1: string (nullable = true)\n",
      " |-- region_2: string (nullable = true)\n",
      " |-- taster_name: string (nullable = true)\n",
      " |-- taster_twitter_handle: string (nullable = true)\n",
      " |-- title: string (nullable = true)\n",
      " |-- variety: string (nullable = true)\n",
      " |-- winery: string (nullable = true)\n",
      "\n"
     ]
    }
   ],
   "source": [
    "spark = SparkSession.builder.getOrCreate()\n",
    "\n",
    "csv_path = \"/data/winemag-reviews.csv\"\n",
    "df1 = spark.read.format(\"csv\").load(csv_path, header=True)\n",
    "df1.printSchema()\n",
    "\n",
    "json_path = \"/data/winemag-reviews.json\"\n",
    "df2 = spark.read.format(\"json\").load(json_path)\n",
    "df2.printSchema()"
   ]
  },
  {
   "cell_type": "code",
   "execution_count": 9,
   "id": "3dc185f6-a16d-4d0d-b7c6-e3917cd65f0f",
   "metadata": {},
   "outputs": [
    {
     "name": "stdout",
     "output_type": "stream",
     "text": [
      "+---+---------+--------------------+--------------------+------+-----+-----------------+-------------------+-----------------+------------------+---------------------+--------------------+------------------+-------------------+\n",
      "|_c0|  country|         description|         designation|points|price|         province|           region_1|         region_2|       taster_name|taster_twitter_handle|               title|           variety|             winery|\n",
      "+---+---------+--------------------+--------------------+------+-----+-----------------+-------------------+-----------------+------------------+---------------------+--------------------+------------------+-------------------+\n",
      "|  0|    Italy|Aromas include tr...|        Vulkà Bianco|    87| NULL|Sicily & Sardinia|               Etna|             NULL|     Kerin O’Keefe|         @kerinokeefe|Nicosia 2013 Vulk...|       White Blend|            Nicosia|\n",
      "|  1| Portugal|This is ripe and ...|            Avidagos|    87| 15.0|            Douro|               NULL|             NULL|        Roger Voss|           @vossroger|Quinta dos Avidag...|    Portuguese Red|Quinta dos Avidagos|\n",
      "|  2|       US|Tart and snappy, ...|                NULL|    87| 14.0|           Oregon|  Willamette Valley|Willamette Valley|      Paul Gregutt|          @paulgwine |Rainstorm 2013 Pi...|        Pinot Gris|          Rainstorm|\n",
      "|  3|       US|Pineapple rind, l...|Reserve Late Harvest|    87| 13.0|         Michigan|Lake Michigan Shore|             NULL|Alexander Peartree|                 NULL|St. Julian 2013 R...|          Riesling|         St. Julian|\n",
      "|  4|       US|Much like the reg...|Vintner's Reserve...|    87| 65.0|           Oregon|  Willamette Valley|Willamette Valley|      Paul Gregutt|          @paulgwine |Sweet Cheeks 2012...|        Pinot Noir|       Sweet Cheeks|\n",
      "|  5|    Spain|Blackberry and ra...|        Ars In Vitro|    87| 15.0|   Northern Spain|            Navarra|             NULL| Michael Schachner|          @wineschach|Tandem 2011 Ars I...|Tempranillo-Merlot|             Tandem|\n",
      "|  6|    Italy|Here's a bright, ...|             Belsito|    87| 16.0|Sicily & Sardinia|           Vittoria|             NULL|     Kerin O’Keefe|         @kerinokeefe|Terre di Giurfo 2...|          Frappato|    Terre di Giurfo|\n",
      "|  7|   France|This dry and rest...|                NULL|    87| 24.0|           Alsace|             Alsace|             NULL|        Roger Voss|           @vossroger|Trimbach 2012 Gew...|    Gewürztraminer|           Trimbach|\n",
      "|  8|  Germany|Savory dried thym...|               Shine|    87| 12.0|      Rheinhessen|               NULL|             NULL|Anna Lee C. Iijima|                 NULL|Heinz Eifel 2013 ...|    Gewürztraminer|        Heinz Eifel|\n",
      "|  9|   France|This has great de...|         Les Natures|    87| 27.0|           Alsace|             Alsace|             NULL|        Roger Voss|           @vossroger|Jean-Baptiste Ada...|        Pinot Gris| Jean-Baptiste Adam|\n",
      "| 10|       US|Soft, supple plum...|      Mountain Cuvée|    87| 19.0|       California|        Napa Valley|             Napa|    Virginie Boone|              @vboone|Kirkland Signatur...|Cabernet Sauvignon| Kirkland Signature|\n",
      "| 11|   France|This is a dry win...|                NULL|    87| 30.0|           Alsace|             Alsace|             NULL|        Roger Voss|           @vossroger|Leon Beyer 2012 G...|    Gewürztraminer|         Leon Beyer|\n",
      "| 12|       US|Slightly reduced,...|                NULL|    87| 34.0|       California|   Alexander Valley|           Sonoma|    Virginie Boone|              @vboone|Louis M. Martini ...|Cabernet Sauvignon|   Louis M. Martini|\n",
      "| 13|    Italy|This is dominated...|               Rosso|    87| NULL|Sicily & Sardinia|               Etna|             NULL|     Kerin O’Keefe|         @kerinokeefe|Masseria Settepor...| Nerello Mascalese|Masseria Setteporte|\n",
      "| 14|       US|Building on 150 y...|                NULL|    87| 12.0|       California|      Central Coast|    Central Coast|     Matt Kettmann|        @mattkettmann|Mirassou 2012 Cha...|        Chardonnay|           Mirassou|\n",
      "| 15|  Germany|Zesty orange peel...|               Devon|    87| 24.0|            Mosel|               NULL|             NULL|Anna Lee C. Iijima|                 NULL|Richard Böcking 2...|          Riesling|    Richard Böcking|\n",
      "| 16|Argentina|Baked plum, molas...|               Felix|    87| 30.0|            Other|           Cafayate|             NULL| Michael Schachner|          @wineschach|Felix Lavaque 201...|            Malbec|      Felix Lavaque|\n",
      "| 17|Argentina|Raw black-cherry ...| Winemaker Selection|    87| 13.0| Mendoza Province|            Mendoza|             NULL| Michael Schachner|          @wineschach|Gaucho Andino 201...|            Malbec|      Gaucho Andino|\n",
      "| 18|    Spain|Desiccated blackb...|Vendimia Seleccio...|    87| 28.0|   Northern Spain|   Ribera del Duero|             NULL| Michael Schachner|          @wineschach|Pradorey 2010 Ven...| Tempranillo Blend|           Pradorey|\n",
      "| 19|       US|Red fruit aromas ...|                NULL|    87| 32.0|         Virginia|           Virginia|             NULL|Alexander Peartree|                 NULL|Quiévremont 2012 ...|          Meritage|        Quiévremont|\n",
      "+---+---------+--------------------+--------------------+------+-----+-----------------+-------------------+-----------------+------------------+---------------------+--------------------+------------------+-------------------+\n",
      "only showing top 20 rows\n",
      "\n"
     ]
    }
   ],
   "source": [
    "df1.show()"
   ]
  }
 ],
 "metadata": {
  "kernelspec": {
   "display_name": "Python 3 (ipykernel)",
   "language": "python",
   "name": "python3"
  },
  "language_info": {
   "codemirror_mode": {
    "name": "ipython",
    "version": 3
   },
   "file_extension": ".py",
   "mimetype": "text/x-python",
   "name": "python",
   "nbconvert_exporter": "python",
   "pygments_lexer": "ipython3",
   "version": "3.11.6"
  }
 },
 "nbformat": 4,
 "nbformat_minor": 5
}
