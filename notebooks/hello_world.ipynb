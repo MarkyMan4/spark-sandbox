{
 "cells": [
  {
   "cell_type": "code",
   "execution_count": 1,
   "id": "7e837a86-6ec1-48a5-a790-fc45c54e8194",
   "metadata": {},
   "outputs": [],
   "source": [
    "from pyspark.sql import SparkSession"
   ]
  },
  {
   "cell_type": "code",
   "execution_count": 2,
   "id": "f1b00053-9131-490a-b0d6-872cdd7097c1",
   "metadata": {},
   "outputs": [],
   "source": [
    "# 1) Create a spark context\n",
    "spark = SparkSession.builder.getOrCreate()"
   ]
  },
  {
   "cell_type": "code",
   "execution_count": 5,
   "id": "ddb48094-80cc-4e13-9bcf-6dfc89ae255a",
   "metadata": {},
   "outputs": [
    {
     "name": "stdout",
     "output_type": "stream",
     "text": [
      "+-----------+\n",
      "|   column_1|\n",
      "+-----------+\n",
      "|Hello World|\n",
      "+-----------+\n",
      "\n"
     ]
    }
   ],
   "source": [
    "# 2) You can use `sql()` to write raw sql queries\n",
    "df = spark.sql(\"SELECT 'Hello World' as column_1\")\n",
    "\n",
    "# 3) You can use `show()` to print your dataframe\n",
    "df.show()"
   ]
  }
 ],
 "metadata": {
  "kernelspec": {
   "display_name": "Python 3 (ipykernel)",
   "language": "python",
   "name": "python3"
  },
  "language_info": {
   "codemirror_mode": {
    "name": "ipython",
    "version": 3
   },
   "file_extension": ".py",
   "mimetype": "text/x-python",
   "name": "python",
   "nbconvert_exporter": "python",
   "pygments_lexer": "ipython3",
   "version": "3.11.6"
  }
 },
 "nbformat": 4,
 "nbformat_minor": 5
}
